{
 "cells": [
  {
   "cell_type": "markdown",
   "metadata": {},
   "source": [
    "# Imports"
   ]
  },
  {
   "cell_type": "code",
   "execution_count": 1,
   "metadata": {},
   "outputs": [],
   "source": [
    "%load_ext autoreload\n",
    "%autoreload 2"
   ]
  },
  {
   "cell_type": "code",
   "execution_count": 2,
   "metadata": {},
   "outputs": [],
   "source": [
    "from hri_tools import HumorDataset\n",
    "from hri_tools import SUPPORTED_DATASETS\n",
    "from hri_tools import downlaod\n",
    "from hri_tools import calc_divergence\n",
    "from hri_tools import calc_divergence_between_target\n",
    "from hri_tools import calc_vocab_for_labels"
   ]
  },
  {
   "cell_type": "code",
   "execution_count": 3,
   "metadata": {},
   "outputs": [],
   "source": [
    "import pandas as pd\n",
    "import seaborn as sns\n",
    "import matplotlib.pyplot as plt"
   ]
  },
  {
   "cell_type": "code",
   "execution_count": 4,
   "metadata": {},
   "outputs": [],
   "source": [
    "import copy"
   ]
  },
  {
   "cell_type": "markdown",
   "metadata": {},
   "source": [
    "# Download datasets"
   ]
  },
  {
   "cell_type": "code",
   "execution_count": 5,
   "metadata": {},
   "outputs": [
    {
     "name": "stdout",
     "output_type": "stream",
     "text": [
      "env: HRI_URL=###PASTE HERE###\n",
      "env: HRI_PASSWORD=###PASTE HERE###\n"
     ]
    }
   ],
   "source": [
    "%env HRI_URL=###PASTE HERE###\n",
    "%env HRI_PASSWORD=###PASTE HERE###"
   ]
  },
  {
   "cell_type": "code",
   "execution_count": 6,
   "metadata": {},
   "outputs": [],
   "source": [
    "# downlaod()"
   ]
  },
  {
   "cell_type": "markdown",
   "metadata": {},
   "source": [
    "# Load datasets and get statistics"
   ]
  },
  {
   "cell_type": "code",
   "execution_count": 5,
   "metadata": {},
   "outputs": [
    {
     "name": "stdout",
     "output_type": "stream",
     "text": [
      "['pun_of_the_day', 'one_liners', 'reddit_jokes_last_laught', 'short_jokes', 'funlines_v1', 'human_microedit_v1', 'funlines_v2', 'human_microedit_v2', 'unfun_me', 'semeval_2021_task_7', 'semeval_2017_task_7', 'the_naughtyformer']\n"
     ]
    }
   ],
   "source": [
    "print(SUPPORTED_DATASETS)"
   ]
  },
  {
   "cell_type": "code",
   "execution_count": 6,
   "metadata": {},
   "outputs": [],
   "source": [
    "all_data = list()\n",
    "for name in SUPPORTED_DATASETS:\n",
    "    all_data.append(\n",
    "        HumorDataset(\n",
    "            name=name\n",
    "        )\n",
    "    )\n",
    "\n",
    "for i in range(len(all_data)):\n",
    "    all_data[i].load()"
   ]
  },
  {
   "cell_type": "code",
   "execution_count": 7,
   "metadata": {},
   "outputs": [
    {
     "name": "stdout",
     "output_type": "stream",
     "text": [
      "\n",
      "        Statistics report for pun_of_the_day dataset:\n",
      "        Number of samples: 4826, pos - 2423, neg - 2403.\n",
      "        Mean word length is 13.515748031496063\n",
      "        Mean length by symbols is 66.64981351015334 (without space is 54.13966017405719)\n",
      "        \n",
      "\n",
      "        Statistics report for one_liners dataset:\n",
      "        Number of samples: 32000, pos - 16000, neg - 16000.\n",
      "        Mean word length is 12.58109375\n",
      "        Mean length by symbols is 58.6513125 (without space is 48.99703125)\n",
      "        \n",
      "\n",
      "        Statistics report for reddit_jokes_last_laught dataset:\n",
      "        Number of samples: 20654, pos - 10327, neg - 10327.\n",
      "        Mean word length is 68.35726735741261\n",
      "        Mean length by symbols is 303.4737096930377 (without space is 250.13973080275008)\n",
      "        \n",
      "\n",
      "        Statistics report for short_jokes dataset:\n",
      "        Number of samples: 463315, pos - 231658, neg - 231657.\n",
      "        Mean word length is 46.093908032332216\n",
      "        Mean length by symbols is 232.2224598815061 (without space is 194.80167272805758)\n",
      "        \n",
      "\n",
      "        Statistics report for funlines_v1 dataset:\n",
      "        Number of samples: 15731, pos - 8248, neg - 7483.\n",
      "        Mean word length is 12.731803445426229\n",
      "        Mean length by symbols is 73.31803445426229 (without space is 61.249125929692966)\n",
      "        \n",
      "\n",
      "        Statistics report for human_microedit_v1 dataset:\n",
      "        Number of samples: 22282, pos - 15085, neg - 7197.\n",
      "        Mean word length is 12.369580827573827\n",
      "        Mean length by symbols is 70.28184184543578 (without space is 58.78422044699758)\n",
      "        \n",
      "\n",
      "        Statistics report for funlines_v2 dataset:\n",
      "        Number of samples: 9427, pos - 1944, neg - 7483.\n",
      "        Mean word length is 12.772886390155936\n",
      "        Mean length by symbols is 73.30720271560412 (without space is 61.39089848308051)\n",
      "        \n",
      "\n",
      "        Statistics report for human_microedit_v2 dataset:\n",
      "        Number of samples: 8850, pos - 1653, neg - 7197.\n",
      "        Mean word length is 12.33231638418079\n",
      "        Mean length by symbols is 70.12813559322034 (without space is 58.61638418079096)\n",
      "        \n",
      "\n",
      "        Statistics report for unfun_me dataset:\n",
      "        Number of samples: 3927, pos - 1174, neg - 2753.\n",
      "        Mean word length is 9.046855105678635\n",
      "        Mean length by symbols is 55.152788388082506 (without space is 47.481538069773364)\n",
      "        \n",
      "\n",
      "        Statistics report for semeval_2021_task_7 dataset:\n",
      "        Number of samples: 10000, pos - 6179, neg - 3821.\n",
      "        Mean word length is 24.9075\n",
      "        Mean length by symbols is 113.1762 (without space is 93.2073)\n",
      "        \n",
      "\n",
      "        Statistics report for semeval_2017_task_7 dataset:\n",
      "        Number of samples: 4030, pos - 2878, neg - 1152.\n",
      "        Mean word length is 13.19727047146402\n",
      "        Mean length by symbols is 59.95483870967742 (without space is 47.77741935483871)\n",
      "        \n",
      "\n",
      "        Statistics report for the_naughtyformer dataset:\n",
      "        Number of samples: 102863, pos - 92153, neg - 10710.\n",
      "        Mean word length is 105.28906409496126\n",
      "        Mean length by symbols is 540.5143151570536 (without space is 447.57437562583243)\n",
      "        \n"
     ]
    }
   ],
   "source": [
    "for i in range(len(all_data)):\n",
    "    all_data[i].calc_statistics()\n",
    "\n",
    "for i in range(len(all_data)):\n",
    "    all_data[i].print_statistics_report()"
   ]
  },
  {
   "cell_type": "code",
   "execution_count": 11,
   "metadata": {},
   "outputs": [],
   "source": [
    "# for i in range(len(all_data)):\n",
    "#     all_data[i].print_positive_sample()"
   ]
  },
  {
   "cell_type": "markdown",
   "metadata": {},
   "source": [
    "# Working with vocab"
   ]
  },
  {
   "cell_type": "code",
   "execution_count": 8,
   "metadata": {},
   "outputs": [],
   "source": [
    "for i in range(len(all_data)):\n",
    "    all_data[i].run_preprocessing()\n",
    "\n",
    "for i in range(len(all_data)):\n",
    "    all_data[i].build_vocab()"
   ]
  },
  {
   "cell_type": "code",
   "execution_count": 9,
   "metadata": {},
   "outputs": [
    {
     "name": "stdout",
     "output_type": "stream",
     "text": [
      "{'Symmetrised KL divergence': 1.400427107710352, 'Jensen–Shannon divergence': None}\n"
     ]
    }
   ],
   "source": [
    "print(calc_divergence(all_data[0], all_data[1]))"
   ]
  },
  {
   "cell_type": "code",
   "execution_count": 10,
   "metadata": {},
   "outputs": [
    {
     "name": "stdout",
     "output_type": "stream",
     "text": [
      "{'Symmetrised KL divergence': 1.400427107710352, 'Jensen–Shannon divergence': None}\n"
     ]
    }
   ],
   "source": [
    "print(calc_divergence(all_data[1], all_data[0]))"
   ]
  },
  {
   "cell_type": "code",
   "execution_count": 11,
   "metadata": {},
   "outputs": [],
   "source": [
    "symmetrised_kl_divergence = list()\n",
    "jensen_shannon_divergence = list()\n",
    "\n",
    "for i in range(len(all_data)):\n",
    "    for j in range(len(all_data)):\n",
    "        result = calc_divergence(all_data[i], all_data[j])\n",
    "        symmetrised_kl_divergence.append(\n",
    "            (all_data[i].name, all_data[j].name, result['Symmetrised KL divergence'])\n",
    "        )\n",
    "\n",
    "        jensen_shannon_divergence.append(\n",
    "            (all_data[i].name, all_data[j].name, result['Jensen–Shannon divergence'])\n",
    "        )"
   ]
  },
  {
   "cell_type": "code",
   "execution_count": 12,
   "metadata": {},
   "outputs": [],
   "source": [
    "df_stat = pd.DataFrame(symmetrised_kl_divergence, columns =['Dataset_x', 'Dataset_y', 'Score'])\n",
    "df_stat_pivot_symmetrised_kl = df_stat.pivot('Dataset_x', 'Dataset_y','Score')\n",
    "df_stat_pivot_symmetrised_kl = df_stat_pivot_symmetrised_kl.reindex(sorted(df_stat_pivot_symmetrised_kl.columns), axis=1)"
   ]
  },
  {
   "cell_type": "code",
   "execution_count": 13,
   "metadata": {},
   "outputs": [
    {
     "data": {
      "text/html": [
       "<div>\n",
       "<style scoped>\n",
       "    .dataframe tbody tr th:only-of-type {\n",
       "        vertical-align: middle;\n",
       "    }\n",
       "\n",
       "    .dataframe tbody tr th {\n",
       "        vertical-align: top;\n",
       "    }\n",
       "\n",
       "    .dataframe thead th {\n",
       "        text-align: right;\n",
       "    }\n",
       "</style>\n",
       "<table border=\"1\" class=\"dataframe\">\n",
       "  <thead>\n",
       "    <tr style=\"text-align: right;\">\n",
       "      <th>Dataset_y</th>\n",
       "      <th>funlines_v1</th>\n",
       "      <th>funlines_v2</th>\n",
       "      <th>human_microedit_v1</th>\n",
       "      <th>human_microedit_v2</th>\n",
       "      <th>one_liners</th>\n",
       "      <th>pun_of_the_day</th>\n",
       "      <th>reddit_jokes_last_laught</th>\n",
       "      <th>semeval_2017_task_7</th>\n",
       "      <th>semeval_2021_task_7</th>\n",
       "      <th>short_jokes</th>\n",
       "      <th>the_naughtyformer</th>\n",
       "      <th>unfun_me</th>\n",
       "    </tr>\n",
       "    <tr>\n",
       "      <th>Dataset_x</th>\n",
       "      <th></th>\n",
       "      <th></th>\n",
       "      <th></th>\n",
       "      <th></th>\n",
       "      <th></th>\n",
       "      <th></th>\n",
       "      <th></th>\n",
       "      <th></th>\n",
       "      <th></th>\n",
       "      <th></th>\n",
       "      <th></th>\n",
       "      <th></th>\n",
       "    </tr>\n",
       "  </thead>\n",
       "  <tbody>\n",
       "    <tr>\n",
       "      <th>funlines_v1</th>\n",
       "      <td>0.000000</td>\n",
       "      <td>0.065983</td>\n",
       "      <td>1.531687</td>\n",
       "      <td>1.478303</td>\n",
       "      <td>3.858016</td>\n",
       "      <td>3.962102</td>\n",
       "      <td>4.748378</td>\n",
       "      <td>4.084953</td>\n",
       "      <td>4.077420</td>\n",
       "      <td>3.584537</td>\n",
       "      <td>2.852767</td>\n",
       "      <td>3.648130</td>\n",
       "    </tr>\n",
       "    <tr>\n",
       "      <th>funlines_v2</th>\n",
       "      <td>0.065983</td>\n",
       "      <td>0.000000</td>\n",
       "      <td>1.514683</td>\n",
       "      <td>1.432078</td>\n",
       "      <td>3.885762</td>\n",
       "      <td>3.996316</td>\n",
       "      <td>4.799600</td>\n",
       "      <td>4.099404</td>\n",
       "      <td>4.133753</td>\n",
       "      <td>3.926915</td>\n",
       "      <td>2.915697</td>\n",
       "      <td>3.612765</td>\n",
       "    </tr>\n",
       "    <tr>\n",
       "      <th>human_microedit_v1</th>\n",
       "      <td>1.531687</td>\n",
       "      <td>1.514683</td>\n",
       "      <td>0.000000</td>\n",
       "      <td>0.105689</td>\n",
       "      <td>3.793581</td>\n",
       "      <td>3.860269</td>\n",
       "      <td>4.528363</td>\n",
       "      <td>4.044662</td>\n",
       "      <td>4.056471</td>\n",
       "      <td>3.333626</td>\n",
       "      <td>2.581726</td>\n",
       "      <td>3.632046</td>\n",
       "    </tr>\n",
       "    <tr>\n",
       "      <th>human_microedit_v2</th>\n",
       "      <td>1.478303</td>\n",
       "      <td>1.432078</td>\n",
       "      <td>0.105689</td>\n",
       "      <td>0.000000</td>\n",
       "      <td>3.874656</td>\n",
       "      <td>3.993587</td>\n",
       "      <td>4.637193</td>\n",
       "      <td>4.142932</td>\n",
       "      <td>4.166237</td>\n",
       "      <td>3.952490</td>\n",
       "      <td>2.700814</td>\n",
       "      <td>3.569020</td>\n",
       "    </tr>\n",
       "    <tr>\n",
       "      <th>one_liners</th>\n",
       "      <td>3.858016</td>\n",
       "      <td>3.885762</td>\n",
       "      <td>3.793581</td>\n",
       "      <td>3.874656</td>\n",
       "      <td>0.000000</td>\n",
       "      <td>1.400427</td>\n",
       "      <td>1.605290</td>\n",
       "      <td>1.662406</td>\n",
       "      <td>1.105164</td>\n",
       "      <td>1.559257</td>\n",
       "      <td>1.961395</td>\n",
       "      <td>3.554466</td>\n",
       "    </tr>\n",
       "    <tr>\n",
       "      <th>pun_of_the_day</th>\n",
       "      <td>3.962102</td>\n",
       "      <td>3.996316</td>\n",
       "      <td>3.860269</td>\n",
       "      <td>3.993587</td>\n",
       "      <td>1.400427</td>\n",
       "      <td>0.000000</td>\n",
       "      <td>1.852443</td>\n",
       "      <td>0.851644</td>\n",
       "      <td>1.490491</td>\n",
       "      <td>3.095877</td>\n",
       "      <td>2.773442</td>\n",
       "      <td>3.998511</td>\n",
       "    </tr>\n",
       "    <tr>\n",
       "      <th>reddit_jokes_last_laught</th>\n",
       "      <td>4.748378</td>\n",
       "      <td>4.799600</td>\n",
       "      <td>4.528363</td>\n",
       "      <td>4.637193</td>\n",
       "      <td>1.605290</td>\n",
       "      <td>1.852443</td>\n",
       "      <td>0.000000</td>\n",
       "      <td>2.279232</td>\n",
       "      <td>1.172113</td>\n",
       "      <td>1.913101</td>\n",
       "      <td>2.602734</td>\n",
       "      <td>4.643223</td>\n",
       "    </tr>\n",
       "    <tr>\n",
       "      <th>semeval_2017_task_7</th>\n",
       "      <td>4.084953</td>\n",
       "      <td>4.099404</td>\n",
       "      <td>4.044662</td>\n",
       "      <td>4.142932</td>\n",
       "      <td>1.662406</td>\n",
       "      <td>0.851644</td>\n",
       "      <td>2.279232</td>\n",
       "      <td>0.000000</td>\n",
       "      <td>1.797530</td>\n",
       "      <td>3.784061</td>\n",
       "      <td>3.299864</td>\n",
       "      <td>3.957350</td>\n",
       "    </tr>\n",
       "    <tr>\n",
       "      <th>semeval_2021_task_7</th>\n",
       "      <td>4.077420</td>\n",
       "      <td>4.133753</td>\n",
       "      <td>4.056471</td>\n",
       "      <td>4.166237</td>\n",
       "      <td>1.105164</td>\n",
       "      <td>1.490491</td>\n",
       "      <td>1.172113</td>\n",
       "      <td>1.797530</td>\n",
       "      <td>0.000000</td>\n",
       "      <td>1.818580</td>\n",
       "      <td>2.133497</td>\n",
       "      <td>3.690252</td>\n",
       "    </tr>\n",
       "    <tr>\n",
       "      <th>short_jokes</th>\n",
       "      <td>3.584537</td>\n",
       "      <td>3.926915</td>\n",
       "      <td>3.333626</td>\n",
       "      <td>3.952490</td>\n",
       "      <td>1.559257</td>\n",
       "      <td>3.095877</td>\n",
       "      <td>1.913101</td>\n",
       "      <td>3.784061</td>\n",
       "      <td>1.818580</td>\n",
       "      <td>0.000000</td>\n",
       "      <td>0.832692</td>\n",
       "      <td>5.039757</td>\n",
       "    </tr>\n",
       "    <tr>\n",
       "      <th>the_naughtyformer</th>\n",
       "      <td>2.852767</td>\n",
       "      <td>2.915697</td>\n",
       "      <td>2.581726</td>\n",
       "      <td>2.700814</td>\n",
       "      <td>1.961395</td>\n",
       "      <td>2.773442</td>\n",
       "      <td>2.602734</td>\n",
       "      <td>3.299864</td>\n",
       "      <td>2.133497</td>\n",
       "      <td>0.832692</td>\n",
       "      <td>0.000000</td>\n",
       "      <td>4.387738</td>\n",
       "    </tr>\n",
       "    <tr>\n",
       "      <th>unfun_me</th>\n",
       "      <td>3.648130</td>\n",
       "      <td>3.612765</td>\n",
       "      <td>3.632046</td>\n",
       "      <td>3.569020</td>\n",
       "      <td>3.554466</td>\n",
       "      <td>3.998511</td>\n",
       "      <td>4.643223</td>\n",
       "      <td>3.957350</td>\n",
       "      <td>3.690252</td>\n",
       "      <td>5.039757</td>\n",
       "      <td>4.387738</td>\n",
       "      <td>0.000000</td>\n",
       "    </tr>\n",
       "  </tbody>\n",
       "</table>\n",
       "</div>"
      ],
      "text/plain": [
       "Dataset_y                 funlines_v1  funlines_v2  human_microedit_v1  \\\n",
       "Dataset_x                                                                \n",
       "funlines_v1                  0.000000     0.065983            1.531687   \n",
       "funlines_v2                  0.065983     0.000000            1.514683   \n",
       "human_microedit_v1           1.531687     1.514683            0.000000   \n",
       "human_microedit_v2           1.478303     1.432078            0.105689   \n",
       "one_liners                   3.858016     3.885762            3.793581   \n",
       "pun_of_the_day               3.962102     3.996316            3.860269   \n",
       "reddit_jokes_last_laught     4.748378     4.799600            4.528363   \n",
       "semeval_2017_task_7          4.084953     4.099404            4.044662   \n",
       "semeval_2021_task_7          4.077420     4.133753            4.056471   \n",
       "short_jokes                  3.584537     3.926915            3.333626   \n",
       "the_naughtyformer            2.852767     2.915697            2.581726   \n",
       "unfun_me                     3.648130     3.612765            3.632046   \n",
       "\n",
       "Dataset_y                 human_microedit_v2  one_liners  pun_of_the_day  \\\n",
       "Dataset_x                                                                  \n",
       "funlines_v1                         1.478303    3.858016        3.962102   \n",
       "funlines_v2                         1.432078    3.885762        3.996316   \n",
       "human_microedit_v1                  0.105689    3.793581        3.860269   \n",
       "human_microedit_v2                  0.000000    3.874656        3.993587   \n",
       "one_liners                          3.874656    0.000000        1.400427   \n",
       "pun_of_the_day                      3.993587    1.400427        0.000000   \n",
       "reddit_jokes_last_laught            4.637193    1.605290        1.852443   \n",
       "semeval_2017_task_7                 4.142932    1.662406        0.851644   \n",
       "semeval_2021_task_7                 4.166237    1.105164        1.490491   \n",
       "short_jokes                         3.952490    1.559257        3.095877   \n",
       "the_naughtyformer                   2.700814    1.961395        2.773442   \n",
       "unfun_me                            3.569020    3.554466        3.998511   \n",
       "\n",
       "Dataset_y                 reddit_jokes_last_laught  semeval_2017_task_7  \\\n",
       "Dataset_x                                                                 \n",
       "funlines_v1                               4.748378             4.084953   \n",
       "funlines_v2                               4.799600             4.099404   \n",
       "human_microedit_v1                        4.528363             4.044662   \n",
       "human_microedit_v2                        4.637193             4.142932   \n",
       "one_liners                                1.605290             1.662406   \n",
       "pun_of_the_day                            1.852443             0.851644   \n",
       "reddit_jokes_last_laught                  0.000000             2.279232   \n",
       "semeval_2017_task_7                       2.279232             0.000000   \n",
       "semeval_2021_task_7                       1.172113             1.797530   \n",
       "short_jokes                               1.913101             3.784061   \n",
       "the_naughtyformer                         2.602734             3.299864   \n",
       "unfun_me                                  4.643223             3.957350   \n",
       "\n",
       "Dataset_y                 semeval_2021_task_7  short_jokes  the_naughtyformer  \\\n",
       "Dataset_x                                                                       \n",
       "funlines_v1                          4.077420     3.584537           2.852767   \n",
       "funlines_v2                          4.133753     3.926915           2.915697   \n",
       "human_microedit_v1                   4.056471     3.333626           2.581726   \n",
       "human_microedit_v2                   4.166237     3.952490           2.700814   \n",
       "one_liners                           1.105164     1.559257           1.961395   \n",
       "pun_of_the_day                       1.490491     3.095877           2.773442   \n",
       "reddit_jokes_last_laught             1.172113     1.913101           2.602734   \n",
       "semeval_2017_task_7                  1.797530     3.784061           3.299864   \n",
       "semeval_2021_task_7                  0.000000     1.818580           2.133497   \n",
       "short_jokes                          1.818580     0.000000           0.832692   \n",
       "the_naughtyformer                    2.133497     0.832692           0.000000   \n",
       "unfun_me                             3.690252     5.039757           4.387738   \n",
       "\n",
       "Dataset_y                 unfun_me  \n",
       "Dataset_x                           \n",
       "funlines_v1               3.648130  \n",
       "funlines_v2               3.612765  \n",
       "human_microedit_v1        3.632046  \n",
       "human_microedit_v2        3.569020  \n",
       "one_liners                3.554466  \n",
       "pun_of_the_day            3.998511  \n",
       "reddit_jokes_last_laught  4.643223  \n",
       "semeval_2017_task_7       3.957350  \n",
       "semeval_2021_task_7       3.690252  \n",
       "short_jokes               5.039757  \n",
       "the_naughtyformer         4.387738  \n",
       "unfun_me                  0.000000  "
      ]
     },
     "execution_count": 13,
     "metadata": {},
     "output_type": "execute_result"
    }
   ],
   "source": [
    "df_stat_pivot_symmetrised_kl"
   ]
  },
  {
   "cell_type": "code",
   "execution_count": 14,
   "metadata": {},
   "outputs": [
    {
     "data": {
      "image/png": "[encoded data removed]",
      "text/plain": [
       "<Figure size 864x720 with 2 Axes>"
      ]
     },
     "metadata": {
      "needs_background": "light"
     },
     "output_type": "display_data"
    }
   ],
   "source": [
    "fig, ax = plt.subplots(figsize=(12,10)) \n",
    "sns.heatmap(df_stat_pivot_symmetrised_kl, annot=True, fmt=\".2f\", ax=ax, linewidth=.5)\n",
    "ax.set(xlabel=\"\", ylabel=\"\")\n",
    "plt.title('Symmetrised KL divergence between datasets')\n",
    "plt.savefig('Symmetrised KL divergence between datasets.png')"
   ]
  },
  {
   "cell_type": "markdown",
   "metadata": {},
   "source": [
    "# Show vocab size"
   ]
  },
  {
   "cell_type": "code",
   "execution_count": 15,
   "metadata": {},
   "outputs": [
    {
     "name": "stdout",
     "output_type": "stream",
     "text": [
      "pun_of_the_day | vocab_size:7491 | non unique words: 65227\n",
      "one_liners | vocab_size:27905 | non unique words: 338553\n",
      "reddit_jokes_last_laught | vocab_size:38128 | non unique words: 1108446\n",
      "short_jokes | vocab_size:579276 | non unique words: 17708079\n",
      "funlines_v1 | vocab_size:13160 | non unique words: 179302\n",
      "human_microedit_v1 | vocab_size:13596 | non unique words: 248561\n",
      "funlines_v2 | vocab_size:11262 | non unique words: 107789\n",
      "human_microedit_v2 | vocab_size:10130 | non unique words: 98693\n",
      "unfun_me | vocab_size:6300 | non unique words: 33905\n",
      "semeval_2021_task_7 | vocab_size:17163 | non unique words: 208819\n",
      "semeval_2017_task_7 | vocab_size:7916 | non unique words: 43985\n",
      "the_naughtyformer | vocab_size:111802 | non unique words: 9300620\n"
     ]
    }
   ],
   "source": [
    "for i in range(len(all_data)):\n",
    "    print(f'{all_data[i].name} | vocab_size:{all_data[i].vocab_size} | non unique words: {all_data[i].non_unique_words}')"
   ]
  },
  {
   "cell_type": "code",
   "execution_count": 16,
   "metadata": {},
   "outputs": [
    {
     "name": "stdout",
     "output_type": "stream",
     "text": [
      "pun_of_the_day 1.327409729032495\n",
      "one_liners 1.7094590022191658\n",
      "reddit_jokes_last_laught 0.9535245077553267\n",
      "short_jokes 2.4917001397640286\n",
      "funlines_v1 0.267372441407745\n",
      "human_microedit_v1 0.26494217866682124\n",
      "funlines_v2 0.8793075544002895\n",
      "human_microedit_v2 1.0468635495106073\n",
      "unfun_me 0.5073552837953553\n",
      "semeval_2021_task_7 1.4900811009992587\n",
      "semeval_2017_task_7 2.289369003430039\n",
      "the_naughtyformer 4.167314878598507\n"
     ]
    }
   ],
   "source": [
    "for dh in all_data:\n",
    "    print(dh.name, calc_divergence_between_target(copy.deepcopy(dh)))"
   ]
  },
  {
   "cell_type": "code",
   "execution_count": 17,
   "metadata": {},
   "outputs": [
    {
     "name": "stdout",
     "output_type": "stream",
     "text": [
      "pun_of_the_day\n",
      "positive target 6803 32048 0.21227533699450823\n",
      "negative target 3309 33179 0.09973175803972392\n",
      "\n",
      "one_liners\n",
      "positive target 16379 198043 0.08270426119580092\n",
      "negative target 19215 140510 0.13675183260977866\n",
      "\n",
      "reddit_jokes_last_laught\n",
      "positive target 14935 774851 0.019274673453347806\n",
      "negative target 31476 333595 0.09435393216325184\n",
      "\n",
      "short_jokes\n",
      "positive target 76167 4047431 0.018818603701953165\n",
      "negative target 545320 13660648 0.03991904337188104\n",
      "\n",
      "funlines_v1\n",
      "positive target 12715 93629 0.13580194170609533\n",
      "negative target 10420 85673 0.1216252494951735\n",
      "\n",
      "human_microedit_v1\n",
      "positive target 13489 168505 0.0800510370612148\n",
      "negative target 9434 80056 0.11784251024283002\n",
      "\n",
      "funlines_v2\n",
      "positive target 5772 22116 0.2609875203472599\n",
      "negative target 10420 85673 0.1216252494951735\n",
      "\n",
      "human_microedit_v2\n",
      "positive target 4767 18637 0.255781509899662\n",
      "negative target 9434 80056 0.11784251024283002\n",
      "\n",
      "unfun_me\n",
      "positive target 4643 10934 0.42463874154014997\n",
      "negative target 5841 22971 0.25427713203604546\n",
      "\n",
      "semeval_2021_task_7\n",
      "positive target 11661 124384 0.09375\n",
      "negative target 10711 84435 0.12685497720139752\n",
      "\n",
      "semeval_2017_task_7\n",
      "positive target 6781 34144 0.19860004686035615\n",
      "negative target 2582 9841 0.26237171019205363\n",
      "\n",
      "the_naughtyformer\n",
      "positive target 60725 2071100 0.029320168026652504\n",
      "negative target 72962 7229520 0.010092232955991546\n",
      "\n"
     ]
    }
   ],
   "source": [
    "all_data = list()\n",
    "for name in SUPPORTED_DATASETS:\n",
    "    all_data.append(\n",
    "        HumorDataset(\n",
    "            name=name\n",
    "        )\n",
    "    )\n",
    "\n",
    "for i in range(len(all_data)):\n",
    "    all_data[i].load()\n",
    "\n",
    "for dh in all_data:\n",
    "    print(calc_vocab_for_labels(dh))"
   ]
  },
  {
   "cell_type": "code",
   "execution_count": null,
   "metadata": {},
   "outputs": [],
   "source": []
  }
 ],
 "metadata": {
  "kernelspec": {
   "display_name": "Python 3.7.13 64-bit",
   "language": "python",
   "name": "python3"
  },
  "language_info": {
   "codemirror_mode": {
    "name": "ipython",
    "version": 3
   },
   "file_extension": ".py",
   "mimetype": "text/x-python",
   "name": "python",
   "nbconvert_exporter": "python",
   "pygments_lexer": "ipython3",
   "version": "3.7.13"
  },
  "orig_nbformat": 4,
  "vscode": {
   "interpreter": {
    "hash": "7a3d88c904243d2c3f246166597f86d1c0a39f3d97496d1fe394945d0c6d436d"
   }
  }
 },
 "nbformat": 4,
 "nbformat_minor": 2
}
