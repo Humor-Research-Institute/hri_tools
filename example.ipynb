{
 "cells": [
  {
   "cell_type": "code",
   "execution_count": 1,
   "metadata": {},
   "outputs": [],
   "source": [
    "%load_ext autoreload\n",
    "%autoreload 2"
   ]
  },
  {
   "cell_type": "code",
   "execution_count": 2,
   "metadata": {},
   "outputs": [],
   "source": [
    "from hri_tools import HumorDataset\n",
    "from hri_tools import SUPPORTED_DATASETS"
   ]
  },
  {
   "cell_type": "code",
   "execution_count": 3,
   "metadata": {},
   "outputs": [
    {
     "name": "stdout",
     "output_type": "stream",
     "text": [
      "['pun_of_the_day', 'one_liners', 'reddit_jokes_last_laught', 'short_jokes', 'funlines', 'human_microedit']\n"
     ]
    }
   ],
   "source": [
    "print(SUPPORTED_DATASETS)"
   ]
  },
  {
   "cell_type": "code",
   "execution_count": 4,
   "metadata": {},
   "outputs": [],
   "source": [
    "all_data = list()\n",
    "for name in SUPPORTED_DATASETS:\n",
    "    all_data.append(\n",
    "        HumorDataset(\n",
    "            name=name\n",
    "        )\n",
    "    )\n",
    "\n",
    "for i in range(len(all_data)):\n",
    "    all_data[i].load()"
   ]
  },
  {
   "cell_type": "code",
   "execution_count": 5,
   "metadata": {},
   "outputs": [
    {
     "name": "stdout",
     "output_type": "stream",
     "text": [
      "\n",
      "        Statistics report for pun_of_the_day dataset:\n",
      "        Number of samples: 4826, pos - 2423, neg - 2403.\n",
      "        Mean word length is 13.515748031496063\n",
      "        Mean length by symbols is 66.64981351015334 (without space is 54.13966017405719)\n",
      "        \n",
      "\n",
      "        Statistics report for one_liners dataset:\n",
      "        Number of samples: 32000, pos - 16000, neg - 16000.\n",
      "        Mean word length is 12.58109375\n",
      "        Mean length by symbols is 58.6513125 (without space is 48.99703125)\n",
      "        \n",
      "\n",
      "        Statistics report for reddit_jokes_last_laught dataset:\n",
      "        Number of samples: 15910, pos - 2026, neg - 13884.\n",
      "        Mean word length is 48.76279069767442\n",
      "        Mean length by symbols is 212.84701445631677 (without space is 174.5742300439975)\n",
      "        \n",
      "\n",
      "        Statistics report for short_jokes dataset:\n",
      "        Number of samples: 463315, pos - 231658, neg - 231657.\n",
      "        Mean word length is 46.093908032332216\n",
      "        Mean length by symbols is 232.2224598815061 (without space is 194.80167272805758)\n",
      "        \n",
      "\n",
      "        Statistics report for funlines dataset:\n",
      "        Number of samples: 8248, pos - 1079, neg - 7169.\n",
      "        Mean word length is 12.683680892337536\n",
      "        Mean length by symbols is 72.62657613967022 (without space is 60.91028128031038)\n",
      "        \n",
      "\n",
      "        Statistics report for human_microedit dataset:\n",
      "        Number of samples: 15095, pos - 957, neg - 14138.\n",
      "        Mean word length is 12.410135806558463\n",
      "        Mean length by symbols is 70.33189797946339 (without space is 58.82696257038754)\n",
      "        \n"
     ]
    }
   ],
   "source": [
    "for i in range(len(all_data)):\n",
    "    all_data[i].calc_statistics()\n",
    "\n",
    "for i in range(len(all_data)):\n",
    "    all_data[i].print_statistics_report()"
   ]
  },
  {
   "cell_type": "code",
   "execution_count": 6,
   "metadata": {},
   "outputs": [
    {
     "name": "stdout",
     "output_type": "stream",
     "text": [
      "\n",
      "        Example from \"pun_of_the_day Dataset\"\n",
      "        Humorous eaxmple: my brother wishes he could compose smutty verse as good as mine is this scribbling ribaldry\n",
      "        \n",
      "\n",
      "        Example from \"one_liners Dataset\"\n",
      "        Humorous eaxmple: I have this nagging fear that everyone is out to make me paranoid.\n",
      "        \n",
      "\n",
      "        Example from \"reddit_jokes_last_laught Dataset\"\n",
      "        Humorous eaxmple: My girlfriend is a pornstar She is going to be very pissed when she finds out.\n",
      "        \n",
      "\n",
      "        Example from \"short_jokes Dataset\"\n",
      "        Humorous eaxmple: Why do male midgets laugh so hard when they play football ? It's because the grass tickles their balls.\n",
      "        \n",
      "\n",
      "        Example from \"funlines Dataset\"\n",
      "        Humorous eaxmple: Reporters claim new blindfolds will hinder impeachment coverage\n",
      "        \n",
      "\n",
      "        Example from \"human_microedit Dataset\"\n",
      "        Humorous eaxmple: New WH comms director Anthony Scaramucci deletes old braincells contradicting Trump\n",
      "        \n"
     ]
    }
   ],
   "source": [
    "for i in range(len(all_data)):\n",
    "    all_data[i].print_positive_sample()"
   ]
  },
  {
   "cell_type": "code",
   "execution_count": 4,
   "metadata": {},
   "outputs": [
    {
     "name": "stdout",
     "output_type": "stream",
     "text": [
      "env: HRI_URL=https://drive.google.com/file/d/\n",
      "env: HRI_PASSWORD=\n"
     ]
    }
   ],
   "source": [
    "%env HRI_URL=https://drive.google.com/file/d/\n",
    "%env HRI_PASSWORD="
   ]
  },
  {
   "cell_type": "code",
   "execution_count": 1,
   "metadata": {},
   "outputs": [],
   "source": [
    "from hri_tools import downlaod"
   ]
  },
  {
   "cell_type": "code",
   "execution_count": null,
   "metadata": {},
   "outputs": [],
   "source": [
    "downlaod()"
   ]
  },
  {
   "cell_type": "code",
   "execution_count": null,
   "metadata": {},
   "outputs": [],
   "source": []
  }
 ],
 "metadata": {
  "kernelspec": {
   "display_name": "Python 3.7.13 64-bit",
   "language": "python",
   "name": "python3"
  },
  "language_info": {
   "codemirror_mode": {
    "name": "ipython",
    "version": 3
   },
   "file_extension": ".py",
   "mimetype": "text/x-python",
   "name": "python",
   "nbconvert_exporter": "python",
   "pygments_lexer": "ipython3",
   "version": "3.7.13"
  },
  "orig_nbformat": 4,
  "vscode": {
   "interpreter": {
    "hash": "7a3d88c904243d2c3f246166597f86d1c0a39f3d97496d1fe394945d0c6d436d"
   }
  }
 },
 "nbformat": 4,
 "nbformat_minor": 2
}
