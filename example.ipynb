{
 "cells": [
  {
   "cell_type": "markdown",
   "metadata": {},
   "source": [
    "# Imports"
   ]
  },
  {
   "cell_type": "code",
   "execution_count": 1,
   "metadata": {},
   "outputs": [],
   "source": [
    "%load_ext autoreload\n",
    "%autoreload 2"
   ]
  },
  {
   "cell_type": "code",
   "execution_count": 2,
   "metadata": {},
   "outputs": [],
   "source": [
    "from hri_tools import HumorDataset\n",
    "from hri_tools import SUPPORTED_DATASETS\n",
    "from hri_tools import downlaod"
   ]
  },
  {
   "cell_type": "markdown",
   "metadata": {},
   "source": [
    "# Download datasets"
   ]
  },
  {
   "cell_type": "code",
   "execution_count": null,
   "metadata": {},
   "outputs": [],
   "source": [
    "%env HRI_URL=###PASTE HERE###\n",
    "%env HRI_PASSWORD=###PASTE HERE###"
   ]
  },
  {
   "cell_type": "code",
   "execution_count": null,
   "metadata": {},
   "outputs": [],
   "source": [
    "downlaod()"
   ]
  },
  {
   "cell_type": "markdown",
   "metadata": {},
   "source": [
    "# Load datasets and get statistics"
   ]
  },
  {
   "cell_type": "code",
   "execution_count": 3,
   "metadata": {},
   "outputs": [
    {
     "name": "stdout",
     "output_type": "stream",
     "text": [
      "['pun_of_the_day', 'one_liners', 'reddit_jokes_last_laught', 'short_jokes', 'funlines_v1', 'human_microedit_v1', 'funlines_v2', 'human_microedit_v2', 'unfun_me', 'semeval_2021_task_7', 'semeval_2017_task_7', 'reddit_jokes_github']\n"
     ]
    }
   ],
   "source": [
    "print(SUPPORTED_DATASETS)"
   ]
  },
  {
   "cell_type": "code",
   "execution_count": 4,
   "metadata": {},
   "outputs": [],
   "source": [
    "all_data = list()\n",
    "for name in SUPPORTED_DATASETS:\n",
    "    all_data.append(\n",
    "        HumorDataset(\n",
    "            name=name\n",
    "        )\n",
    "    )\n",
    "\n",
    "for i in range(len(all_data)):\n",
    "    all_data[i].load()"
   ]
  },
  {
   "cell_type": "code",
   "execution_count": 5,
   "metadata": {},
   "outputs": [
    {
     "name": "stdout",
     "output_type": "stream",
     "text": [
      "\n",
      "        Statistics report for pun_of_the_day dataset:\n",
      "        Number of samples: 4826, pos - 2423, neg - 2403.\n",
      "        Mean word length is 13.515748031496063\n",
      "        Mean length by symbols is 66.64981351015334 (without space is 54.13966017405719)\n",
      "        \n",
      "\n",
      "        Statistics report for one_liners dataset:\n",
      "        Number of samples: 32000, pos - 16000, neg - 16000.\n",
      "        Mean word length is 12.58109375\n",
      "        Mean length by symbols is 58.6513125 (without space is 48.99703125)\n",
      "        \n",
      "\n",
      "        Statistics report for reddit_jokes_last_laught dataset:\n",
      "        Number of samples: 15910, pos - 2026, neg - 13884.\n",
      "        Mean word length is 48.76279069767442\n",
      "        Mean length by symbols is 212.84701445631677 (without space is 174.5742300439975)\n",
      "        \n",
      "\n",
      "        Statistics report for short_jokes dataset:\n",
      "        Number of samples: 463315, pos - 231658, neg - 231657.\n",
      "        Mean word length is 46.093908032332216\n",
      "        Mean length by symbols is 232.2224598815061 (without space is 194.80167272805758)\n",
      "        \n",
      "\n",
      "        Statistics report for funlines_v1 dataset:\n",
      "        Number of samples: 15731, pos - 8248, neg - 7483.\n",
      "        Mean word length is 12.731803445426229\n",
      "        Mean length by symbols is 73.31803445426229 (without space is 61.249125929692966)\n",
      "        \n",
      "\n",
      "        Statistics report for human_microedit_v1 dataset:\n",
      "        Number of samples: 25398, pos - 15095, neg - 10303.\n",
      "        Mean word length is 13.306480825261831\n",
      "        Mean length by symbols is 72.39077880148044 (without space is 60.46964327899835)\n",
      "        \n",
      "\n",
      "        Statistics report for funlines_v2 dataset:\n",
      "        Number of samples: 9427, pos - 1944, neg - 7483.\n",
      "        Mean word length is 12.772886390155936\n",
      "        Mean length by symbols is 73.30720271560412 (without space is 61.39089848308051)\n",
      "        \n",
      "\n",
      "        Statistics report for human_microedit_v2 dataset:\n",
      "        Number of samples: 11959, pos - 1656, neg - 10303.\n",
      "        Mean word length is 14.332218412910779\n",
      "        Mean length by symbols is 74.0159712350531 (without space is 62.24232795384229)\n",
      "        \n",
      "\n",
      "        Statistics report for unfun_me dataset:\n",
      "        Number of samples: 3927, pos - 1174, neg - 2753.\n",
      "        Mean word length is 9.046855105678635\n",
      "        Mean length by symbols is 55.152788388082506 (without space is 47.481538069773364)\n",
      "        \n",
      "\n",
      "        Statistics report for semeval_2021_task_7 dataset:\n",
      "        Number of samples: 10000, pos - 6179, neg - 3821.\n",
      "        Mean word length is 24.9075\n",
      "        Mean length by symbols is 113.1762 (without space is 93.2073)\n",
      "        \n",
      "\n",
      "        Statistics report for semeval_2017_task_7 dataset:\n",
      "        Number of samples: 4030, pos - 2878, neg - 1152.\n",
      "        Mean word length is 13.19727047146402\n",
      "        Mean length by symbols is 59.95483870967742 (without space is 47.77741935483871)\n",
      "        \n",
      "\n",
      "        Statistics report for reddit_jokes_github dataset:\n",
      "        Number of samples: 194553, pos - 11763, neg - 182790.\n",
      "        Mean word length is 47.66697506592034\n",
      "        Mean length by symbols is 239.05603614439252 (without space is 193.8032669760939)\n",
      "        \n"
     ]
    }
   ],
   "source": [
    "for i in range(len(all_data)):\n",
    "    all_data[i].calc_statistics()\n",
    "\n",
    "for i in range(len(all_data)):\n",
    "    all_data[i].print_statistics_report()"
   ]
  },
  {
   "cell_type": "code",
   "execution_count": null,
   "metadata": {},
   "outputs": [],
   "source": []
  },
  {
   "cell_type": "code",
   "execution_count": 6,
   "metadata": {},
   "outputs": [
    {
     "name": "stdout",
     "output_type": "stream",
     "text": [
      "\n",
      "        Example from \"pun_of_the_day\" Dataset\n",
      "        Humorous eaxmple: the optical scientist who stole his colleague s bifocals was sentenced to three years in a state prism\n",
      "        \n",
      "\n",
      "        Example from \"one_liners\" Dataset\n",
      "        Humorous eaxmple: Better to light one candle than to curse the darkness.\n",
      "        \n",
      "\n",
      "        Example from \"reddit_jokes_last_laught\" Dataset\n",
      "        Humorous eaxmple: I tell everyone I can about the health benefits of eating dried grapes. It's all about raisin awareness. \n",
      "        \n",
      "\n",
      "        Example from \"short_jokes\" Dataset\n",
      "        Humorous eaxmple: A grasshopper walks into a bar and the bartender says \"hey! We have a drink named after you!\" And the grasshopper says \"You have a drink named Steve?!\"\n",
      "        \n",
      "\n",
      "        Example from \"funlines_v1\" Dataset\n",
      "        Humorous eaxmple: Trump says he will designate Mexican abuela  cartels as terror organizations\n",
      "        \n",
      "\n",
      "        Example from \"human_microedit_v1\" Dataset\n",
      "        Humorous eaxmple: Liberty University Alumni To Return Diplomas Over School mascot  's Trump Support\n",
      "        \n",
      "\n",
      "        Example from \"funlines_v2\" Dataset\n",
      "        Humorous eaxmple: Trump orders toilet locks  : Americans are ‘ flushing toilets 10 times , 15 times ’\n",
      "        \n",
      "\n",
      "        Example from \"human_microedit_v2\" Dataset\n",
      "        Humorous eaxmple: Here ’s the “ certified ” letter saying Trump has no Russian prostitutes  or investors\n",
      "        \n",
      "\n",
      "        Example from \"unfun_me\" Dataset\n",
      "        Humorous eaxmple: Pitiful Man Frantically Urging Coworkers To Join NHL Fantasy League\n",
      "        \n",
      "\n",
      "        Example from \"semeval_2021_task_7\" Dataset\n",
      "        Humorous eaxmple: Robert Pattinson once dealt with an obsessed fan by taking her out for dinner and complaining about his life. He says he's able to bore people in two minutes.\n",
      "        \n",
      "\n",
      "        Example from \"semeval_2017_task_7\" Dataset\n",
      "        Humorous eaxmple: The Net - surfing bandits always ended an operation by clearing out the cash .\n",
      "        \n",
      "\n",
      "        Example from \"reddit_jokes_github\" Dataset\n",
      "        Humorous eaxmple: Why did the feminist refuse to work at the post office Because it was a mail dominated industry\n",
      "        \n"
     ]
    }
   ],
   "source": [
    "for i in range(len(all_data)):\n",
    "    all_data[i].print_positive_sample()"
   ]
  },
  {
   "cell_type": "code",
   "execution_count": null,
   "metadata": {},
   "outputs": [],
   "source": []
  }
 ],
 "metadata": {
  "kernelspec": {
   "display_name": "Python 3.7.13 64-bit",
   "language": "python",
   "name": "python3"
  },
  "language_info": {
   "codemirror_mode": {
    "name": "ipython",
    "version": 3
   },
   "file_extension": ".py",
   "mimetype": "text/x-python",
   "name": "python",
   "nbconvert_exporter": "python",
   "pygments_lexer": "ipython3",
   "version": "3.7.13"
  },
  "orig_nbformat": 4,
  "vscode": {
   "interpreter": {
    "hash": "7a3d88c904243d2c3f246166597f86d1c0a39f3d97496d1fe394945d0c6d436d"
   }
  }
 },
 "nbformat": 4,
 "nbformat_minor": 2
}
